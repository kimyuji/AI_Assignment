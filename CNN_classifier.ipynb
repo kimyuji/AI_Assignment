{
  "nbformat": 4,
  "nbformat_minor": 0,
  "metadata": {
    "colab": {
      "name": "CNN classifier.ipynb",
      "provenance": [],
      "collapsed_sections": [],
      "include_colab_link": true
    },
    "kernelspec": {
      "name": "python3",
      "display_name": "Python 3"
    },
    "accelerator": "GPU"
  },
  "cells": [
    {
      "cell_type": "markdown",
      "metadata": {
        "id": "view-in-github",
        "colab_type": "text"
      },
      "source": [
        "<a href=\"https://colab.research.google.com/github/kimyuji/AI_Assignment/blob/main/CNN_classifier.ipynb\" target=\"_parent\"><img src=\"https://colab.research.google.com/assets/colab-badge.svg\" alt=\"Open In Colab\"/></a>"
      ]
    },
    {
      "cell_type": "code",
      "metadata": {
        "id": "mpIztu1Iy_pV"
      },
      "source": [
        "# 필요한 module import\n",
        "import torch\n",
        "import torchvision # CIFAR10\n",
        "import torchvision.transforms as transforms\n",
        "import torch.nn as nn\n",
        "import torch.nn.functional as F\n",
        "import torchsummary as summary\n",
        "\n",
        "import matplotlib\n",
        "import matplotlib.pyplot as plt\n",
        "from matplotlib.pyplot import imshow\n",
        "%matplotlib inline"
      ],
      "execution_count": null,
      "outputs": []
    },
    {
      "cell_type": "markdown",
      "metadata": {
        "id": "o7n8hB7Xug3z"
      },
      "source": [
        "## 1. Hyperparameters"
      ]
    },
    {
      "cell_type": "code",
      "metadata": {
        "id": "qI7bgZ8qukgA"
      },
      "source": [
        "# Device Configuration\n",
        "device = torch.device('cuda' if torch.cuda.is_available() else 'cpu')\n",
        "\n",
        "# Model\n",
        "num_classes = 10 # 10 classes\n",
        "in_channel = 3 # color images\n",
        "\n",
        "# Hyperparameters\n",
        "batch_size = 1000\n",
        "learning_rate = 0.001\n",
        "num_epochs = 30"
      ],
      "execution_count": null,
      "outputs": []
    },
    {
      "cell_type": "markdown",
      "metadata": {
        "id": "-xuErWp7vWUQ"
      },
      "source": [
        "## 2. Load data & Dataloader"
      ]
    },
    {
      "cell_type": "code",
      "metadata": {
        "id": "ODFVVMYDzF_o",
        "colab": {
          "base_uri": "https://localhost:8080/"
        },
        "outputId": "16df8d9e-728d-4344-dd0c-896672d0e2e6"
      },
      "source": [
        "train_data = torchvision.datasets.CIFAR10(root='./datasets',\n",
        "                                          train = True, # 이미 잘 정리된 데이터, 그 중 train set을 가져오자\n",
        "                                          transform=transforms.ToTensor(),\n",
        "                                          download=True)\n",
        "test_data = torchvision.datasets.CIFAR10(root='./datasets',\n",
        "                                          train = False, \n",
        "                                          transform=transforms.ToTensor(),\n",
        "                                          download=True)"
      ],
      "execution_count": null,
      "outputs": [
        {
          "output_type": "stream",
          "text": [
            "Files already downloaded and verified\n",
            "Files already downloaded and verified\n"
          ],
          "name": "stdout"
        }
      ]
    },
    {
      "cell_type": "code",
      "metadata": {
        "id": "4zLfUEDgzQsN"
      },
      "source": [
        "train_loader = torch.utils.data.DataLoader(dataset=train_data,\n",
        "                                          batch_size=batch_size,\n",
        "                                          shuffle=True) #필수\n",
        "test_loader = torch.utils.data.DataLoader(dataset=test_data,\n",
        "                                          batch_size=batch_size,\n",
        "                                          shuffle=True)"
      ],
      "execution_count": null,
      "outputs": []
    },
    {
      "cell_type": "markdown",
      "metadata": {
        "id": "m4LNdBdcv-tN"
      },
      "source": [
        "## 3. Define a Model"
      ]
    },
    {
      "cell_type": "code",
      "metadata": {
        "id": "rblnMwVNzZsm"
      },
      "source": [
        "class img_class(nn.Module):\n",
        "  def __init__(self, num_classes=10):\n",
        "    super(img_class, self).__init__()\n",
        "    self.layer1 = nn.Sequential(\n",
        "        nn.Conv2d(in_channel, 6, 5, padding=1),\n",
        "        nn.BatchNorm2d(6),\n",
        "        nn.ReLU(),\n",
        "        nn.MaxPool2d(2,2),\n",
        "    )    \n",
        "\n",
        "    self.layer2 = nn.Sequential(\n",
        "        nn.Conv2d(6, 16, 5, padding=1),\n",
        "        nn.BatchNorm2d(16),\n",
        "        nn.ReLU(),\n",
        "        nn.MaxPool2d(2, 2),\n",
        "    )\n",
        "    self.fc1 = nn.Linear(in_features=6*6*16, out_features=120)\n",
        "    self.fc2 = nn.Linear(in_features=120, out_features=84)\n",
        "    self.fc3 = nn.Linear(in_features=84, out_features=num_classes)\n",
        "\n",
        "  def forward(self, x):\n",
        "    # 1-layer\n",
        "    x = self.layer1(x)\n",
        "    # 2-layer\n",
        "    x = self.layer2(x)\n",
        "    \n",
        "    # 3-layer\n",
        "    x = self.fc1(x.reshape(x.size(0), -1))    \n",
        "    x = F.relu(x)\n",
        "    # 4-layer\n",
        "    x = self.fc2(x)\n",
        "    # out-layer\n",
        "    x = self.fc3(x)\n",
        "    return x\n",
        "\n",
        "\n",
        "\n",
        "model = img_class()"
      ],
      "execution_count": null,
      "outputs": []
    },
    {
      "cell_type": "code",
      "metadata": {
        "id": "uLrLU8AD0-hK",
        "colab": {
          "base_uri": "https://localhost:8080/"
        },
        "outputId": "deb3a090-5b4f-45fd-9114-318f3da3b768"
      },
      "source": [
        "print(model)"
      ],
      "execution_count": null,
      "outputs": [
        {
          "output_type": "stream",
          "text": [
            "img_class(\n",
            "  (layer1): Sequential(\n",
            "    (0): Conv2d(3, 6, kernel_size=(5, 5), stride=(1, 1), padding=(1, 1))\n",
            "    (1): BatchNorm2d(6, eps=1e-05, momentum=0.1, affine=True, track_running_stats=True)\n",
            "    (2): ReLU()\n",
            "    (3): MaxPool2d(kernel_size=2, stride=2, padding=0, dilation=1, ceil_mode=False)\n",
            "  )\n",
            "  (layer2): Sequential(\n",
            "    (0): Conv2d(6, 16, kernel_size=(5, 5), stride=(1, 1), padding=(1, 1))\n",
            "    (1): BatchNorm2d(16, eps=1e-05, momentum=0.1, affine=True, track_running_stats=True)\n",
            "    (2): ReLU()\n",
            "    (3): MaxPool2d(kernel_size=2, stride=2, padding=0, dilation=1, ceil_mode=False)\n",
            "  )\n",
            "  (fc1): Linear(in_features=576, out_features=120, bias=True)\n",
            "  (fc2): Linear(in_features=120, out_features=84, bias=True)\n",
            "  (fc3): Linear(in_features=84, out_features=10, bias=True)\n",
            ")\n"
          ],
          "name": "stdout"
        }
      ]
    },
    {
      "cell_type": "markdown",
      "metadata": {
        "id": "ihoIoP6O0_a-"
      },
      "source": [
        "## 4. Loss & Optimizer"
      ]
    },
    {
      "cell_type": "code",
      "metadata": {
        "id": "heHIC2Go1MNa"
      },
      "source": [
        "model = img_class().to(device)\n",
        "criterion = nn.CrossEntropyLoss()\n",
        "optimizer = torch.optim.Adam(model.parameters(), lr=learning_rate)"
      ],
      "execution_count": null,
      "outputs": []
    },
    {
      "cell_type": "markdown",
      "metadata": {
        "id": "16SACxCb1Muu"
      },
      "source": [
        "## 5. Train Model"
      ]
    },
    {
      "cell_type": "code",
      "metadata": {
        "id": "aLrB4WzJ1cqn",
        "colab": {
          "base_uri": "https://localhost:8080/"
        },
        "outputId": "e2aa7c83-bdab-4fd1-8332-7e61cfc871c0"
      },
      "source": [
        "total_step = len(train_loader)\n",
        "error=[] \n",
        "\n",
        "for epoch in range(num_epochs):\n",
        "  for i, (img, label) in enumerate(train_loader):\n",
        "    # Assign Tensors to Configures Devices (gpu)\n",
        "    img = img.to(device)\n",
        "    label = label.to(device)\n",
        "\n",
        "    # Forward propagation\n",
        "    outputs = model(img)\n",
        "\n",
        "    # Get Loss, Compute Gradient, Update Parameters\n",
        "    batch_loss = 0.0\n",
        "    loss = criterion(outputs, label)\n",
        "    optimizer.zero_grad()\n",
        "    loss.backward()\n",
        "    optimizer.step()\n",
        "    batch_loss += loss.item()\n",
        "    error.append(batch_loss) #.detach().numpy()\n",
        "    \n",
        "    # Print Loss\n",
        "    if i % 100000 == 0 or (i+1)==len(train_loader):\n",
        "      print('Epoch [{}/{}], Step [{}/{}], Loss: {:.4f}'.format(epoch+1, num_epochs, i+1, len(train_loader), loss.item()))\n",
        "print(\"----------Learning Finished----------\")"
      ],
      "execution_count": null,
      "outputs": [
        {
          "output_type": "stream",
          "text": [
            "Epoch [1/30], Step [1/50], Loss: 2.3263\n",
            "Epoch [1/30], Step [50/50], Loss: 1.4504\n",
            "Epoch [2/30], Step [1/50], Loss: 1.4990\n",
            "Epoch [2/30], Step [50/50], Loss: 1.3205\n",
            "Epoch [3/30], Step [1/50], Loss: 1.3329\n",
            "Epoch [3/30], Step [50/50], Loss: 1.2199\n",
            "Epoch [4/30], Step [1/50], Loss: 1.2787\n",
            "Epoch [4/30], Step [50/50], Loss: 1.2031\n",
            "Epoch [5/30], Step [1/50], Loss: 1.1237\n",
            "Epoch [5/30], Step [50/50], Loss: 1.1746\n",
            "Epoch [6/30], Step [1/50], Loss: 1.1532\n",
            "Epoch [6/30], Step [50/50], Loss: 1.0933\n",
            "Epoch [7/30], Step [1/50], Loss: 1.0523\n",
            "Epoch [7/30], Step [50/50], Loss: 1.0526\n",
            "Epoch [8/30], Step [1/50], Loss: 1.0699\n",
            "Epoch [8/30], Step [50/50], Loss: 1.0096\n",
            "Epoch [9/30], Step [1/50], Loss: 1.0204\n",
            "Epoch [9/30], Step [50/50], Loss: 0.9315\n",
            "Epoch [10/30], Step [1/50], Loss: 0.9959\n",
            "Epoch [10/30], Step [50/50], Loss: 0.9352\n",
            "Epoch [11/30], Step [1/50], Loss: 0.9585\n",
            "Epoch [11/30], Step [50/50], Loss: 0.9036\n",
            "Epoch [12/30], Step [1/50], Loss: 0.8550\n",
            "Epoch [12/30], Step [50/50], Loss: 0.8769\n",
            "Epoch [13/30], Step [1/50], Loss: 0.8702\n",
            "Epoch [13/30], Step [50/50], Loss: 0.8656\n",
            "Epoch [14/30], Step [1/50], Loss: 0.9106\n",
            "Epoch [14/30], Step [50/50], Loss: 0.8391\n",
            "Epoch [15/30], Step [1/50], Loss: 0.8468\n",
            "Epoch [15/30], Step [50/50], Loss: 0.9111\n",
            "Epoch [16/30], Step [1/50], Loss: 0.8054\n",
            "Epoch [16/30], Step [50/50], Loss: 0.8887\n",
            "Epoch [17/30], Step [1/50], Loss: 0.8474\n",
            "Epoch [17/30], Step [50/50], Loss: 0.8040\n",
            "Epoch [18/30], Step [1/50], Loss: 0.8476\n",
            "Epoch [18/30], Step [50/50], Loss: 0.7132\n",
            "Epoch [19/30], Step [1/50], Loss: 0.7687\n",
            "Epoch [19/30], Step [50/50], Loss: 0.8057\n",
            "Epoch [20/30], Step [1/50], Loss: 0.7590\n",
            "Epoch [20/30], Step [50/50], Loss: 0.7454\n",
            "Epoch [21/30], Step [1/50], Loss: 0.7528\n",
            "Epoch [21/30], Step [50/50], Loss: 0.7437\n",
            "Epoch [22/30], Step [1/50], Loss: 0.6980\n",
            "Epoch [22/30], Step [50/50], Loss: 0.6997\n",
            "Epoch [23/30], Step [1/50], Loss: 0.6980\n",
            "Epoch [23/30], Step [50/50], Loss: 0.7419\n",
            "Epoch [24/30], Step [1/50], Loss: 0.6831\n",
            "Epoch [24/30], Step [50/50], Loss: 0.6995\n",
            "Epoch [25/30], Step [1/50], Loss: 0.5805\n",
            "Epoch [25/30], Step [50/50], Loss: 0.6790\n",
            "Epoch [26/30], Step [1/50], Loss: 0.6504\n",
            "Epoch [26/30], Step [50/50], Loss: 0.6423\n",
            "Epoch [27/30], Step [1/50], Loss: 0.5770\n",
            "Epoch [27/30], Step [50/50], Loss: 0.6394\n",
            "Epoch [28/30], Step [1/50], Loss: 0.6672\n",
            "Epoch [28/30], Step [50/50], Loss: 0.6426\n",
            "Epoch [29/30], Step [1/50], Loss: 0.6262\n",
            "Epoch [29/30], Step [50/50], Loss: 0.6746\n",
            "Epoch [30/30], Step [1/50], Loss: 0.6288\n",
            "Epoch [30/30], Step [50/50], Loss: 0.6121\n",
            "----------Learning Finished----------\n"
          ],
          "name": "stdout"
        }
      ]
    },
    {
      "cell_type": "code",
      "metadata": {
        "id": "mCiFjxu96Mjx",
        "colab": {
          "base_uri": "https://localhost:8080/",
          "height": 281
        },
        "outputId": "78e24f31-1f12-4b77-f1b1-923287c00deb"
      },
      "source": [
        "plt.plot(error)\n",
        "plt.title('error')\n",
        "plt.show()"
      ],
      "execution_count": null,
      "outputs": [
        {
          "output_type": "display_data",
          "data": {
            "image/png": "[encoded data removed]",
            "text/plain": [
              "<Figure size 432x288 with 1 Axes>"
            ]
          },
          "metadata": {
            "tags": [],
            "needs_background": "light"
          }
        }
      ]
    },
    {
      "cell_type": "markdown",
      "metadata": {
        "id": "_4ViG-2IwpdC"
      },
      "source": [
        "## 6. Save Model"
      ]
    },
    {
      "cell_type": "code",
      "metadata": {
        "id": "FQtopgXg0LYZ"
      },
      "source": [
        "torch.save(model.state_dict(),\"model.pth\")"
      ],
      "execution_count": null,
      "outputs": []
    },
    {
      "cell_type": "markdown",
      "metadata": {
        "id": "e5BPcP9E0QkO"
      },
      "source": [
        "## 7. Test Model"
      ]
    },
    {
      "cell_type": "code",
      "metadata": {
        "id": "QsNkW3060UgH",
        "colab": {
          "base_uri": "https://localhost:8080/"
        },
        "outputId": "7c3522fd-f76b-4dcb-d1f8-bbe3fdf98f08"
      },
      "source": [
        "test_model = img_class().to(device)\n",
        "\n",
        "test_model.load_state_dict(torch.load(\"model.pth\"))"
      ],
      "execution_count": null,
      "outputs": [
        {
          "output_type": "execute_result",
          "data": {
            "text/plain": [
              "<All keys matched successfully>"
            ]
          },
          "metadata": {
            "tags": []
          },
          "execution_count": 18
        }
      ]
    },
    {
      "cell_type": "code",
      "metadata": {
        "id": "WDo69Obn0W1W",
        "colab": {
          "base_uri": "https://localhost:8080/"
        },
        "outputId": "71126cbd-2ad8-4cfd-9e31-b4c71479ed6f"
      },
      "source": [
        "test_model.eval() #evaluation mode\n",
        "\n",
        "with torch.no_grad():\n",
        "  correct = 0\n",
        "  \n",
        "  for img, lab in test_loader:\n",
        "    img = img.to(device)\n",
        "    lab = lab.to(device)\n",
        "    out = test_model(img)\n",
        "    _, pred = torch.max(out.data, 1)\n",
        "    correct += (pred == lab).sum().item()\n",
        "\n",
        "  print(\"Accuracy of the network on the {} test images: {}%\".format(len(test_loader)*batch_size, 100 * correct / (len(test_loader) * batch_size)))"
      ],
      "execution_count": null,
      "outputs": [
        {
          "output_type": "stream",
          "text": [
            "Accuracy of the network on the 10000 test images: 66.82%\n"
          ],
          "name": "stdout"
        }
      ]
    },
    {
      "cell_type": "code",
      "metadata": {
        "id": "vphugSJk0f2s"
      },
      "source": [
        ""
      ],
      "execution_count": null,
      "outputs": []
    }
  ]
}