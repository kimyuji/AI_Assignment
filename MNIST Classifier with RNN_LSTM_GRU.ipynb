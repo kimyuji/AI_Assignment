{
  "nbformat": 4,
  "nbformat_minor": 0,
  "metadata": {
    "colab": {
      "name": "MNIST Classifier with RNN/LSTM/GRU.ipynb",
      "provenance": [],
      "collapsed_sections": [],
      "include_colab_link": true
    },
    "kernelspec": {
      "name": "python3",
      "display_name": "Python 3"
    },
    "accelerator": "GPU"
  },
  "cells": [
    {
      "cell_type": "markdown",
      "metadata": {
        "id": "view-in-github",
        "colab_type": "text"
      },
      "source": [
        "<a href=\"https://colab.research.google.com/github/kimyuji/AI_Assignment/blob/main/MNIST_Classifier_with_RNN_LSTM_GRU.ipynb\" target=\"_parent\"><img src=\"https://colab.research.google.com/assets/colab-badge.svg\" alt=\"Open In Colab\"/></a>"
      ]
    },
    {
      "cell_type": "markdown",
      "metadata": {
        "id": "9JgO_rpTGGhR"
      },
      "source": [
        "# 과제3 MNIST classifier 만들기"
      ]
    },
    {
      "cell_type": "code",
      "metadata": {
        "id": "kvDAayzgHSaP"
      },
      "source": [
        "import numpy as np\n",
        "import torch\n",
        "import torch.nn as nn\n",
        "import torch.nn.functional as F\n",
        "import torchvision\n",
        "import torchvision.transforms as transforms\n",
        "\n",
        "import matplotlib\n",
        "import matplotlib.pyplot as plt\n",
        "from matplotlib.pyplot import imshow\n",
        "%matplotlib inline"
      ],
      "execution_count": null,
      "outputs": []
    },
    {
      "cell_type": "markdown",
      "metadata": {
        "id": "U2UBTniiHin2"
      },
      "source": [
        "### 0. Device Configuration and define Hyperparameters"
      ]
    },
    {
      "cell_type": "code",
      "metadata": {
        "id": "GAhvabT8HYsy"
      },
      "source": [
        "device = torch.device('cuda' if torch.cuda.is_available() else 'cpu')\n",
        "\n",
        "# Hyper parameters\n",
        "sequence_length = 28 # 고정\n",
        "input_size = 28 # 고정\n",
        "num_layers = 10 # 크면 안 좋음 overfitting인듯 (원래5엿음)\n",
        "num_classes =10 # label 종류\n",
        "batch_size = 50 # 고정 #50이 제일 적당한 듯 \n",
        "num_epochs = 15"
      ],
      "execution_count": null,
      "outputs": []
    },
    {
      "cell_type": "markdown",
      "metadata": {
        "id": "F1EPMrxhH-gQ"
      },
      "source": [
        "### 1. Load Data"
      ]
    },
    {
      "cell_type": "code",
      "metadata": {
        "id": "8R8E_MNXIBeX"
      },
      "source": [
        "train_data = torchvision.datasets.MNIST(root='./datasets',\n",
        "                                        train=True,\n",
        "                                        transform=transforms.ToTensor(),\n",
        "                                        download=True)\n",
        "test_data = torchvision.datasets.MNIST(root='./datasets',\n",
        "                                        train=False,\n",
        "                                        transform=transforms.ToTensor(),\n",
        "                                        download=True)"
      ],
      "execution_count": null,
      "outputs": []
    },
    {
      "cell_type": "markdown",
      "metadata": {
        "id": "G8_nt0M6IEjG"
      },
      "source": [
        "### 2. Define DataLoader"
      ]
    },
    {
      "cell_type": "code",
      "metadata": {
        "id": "i3hByN5NIIw-"
      },
      "source": [
        "train_loader = torch.utils.data.DataLoader(dataset=train_data,\n",
        "                                           batch_size=batch_size,\n",
        "                                           shuffle=True) #shuffle 필수\n",
        "\n",
        "test_loader = torch.utils.data.DataLoader(dataset=test_data,\n",
        "                                          batch_size=batch_size,\n",
        "                                          shuffle=False)"
      ],
      "execution_count": null,
      "outputs": []
    },
    {
      "cell_type": "markdown",
      "metadata": {
        "id": "RFhC7ow1LBZQ"
      },
      "source": [
        "### 3. Define a Model"
      ]
    },
    {
      "cell_type": "code",
      "metadata": {
        "id": "LEEvlr9jLGLv"
      },
      "source": [
        "class RNN(nn.Module):\n",
        "  def __init__(self, intput_size, num_layers, num_classes, drop_percent=0.0, model='RNN', hidden_size=200):\n",
        "    super(RNN, self).__init__()\n",
        "    self.model=model\n",
        "    self.hidden_size = hidden_size\n",
        "    self.num_layers = num_layers\n",
        "    self.rnn = nn.RNN(input_size, hidden_size, num_layers, batch_first=True)\n",
        "    self.lstm = nn.LSTM(input_size, hidden_size, num_layers, batch_first=True) # batch_first: dataloader와 차원을 맞춰주기 위해 size에서 순서가 다르기 때문에!!!\n",
        "    self.gru = nn.GRU(input_size, hidden_size, num_layers, batch_first=True)\n",
        "    self.fc = nn.Linear(hidden_size, num_classes)\n",
        "    self.dropout = nn.Dropout(drop_percent)\n",
        "\n",
        "  def forward(self, x):\n",
        "\n",
        "   # 원하는 모델 골라쓰기!\n",
        "    if self.model == \"RNN\":\n",
        "      out, hidden = self.rnn(x)\n",
        "    elif self.model == \"LSTM\":\n",
        "      out, _ = self.lstm(x)\n",
        "    elif self.model == \"GRU\":\n",
        "      out, hidden = self.gru(x)\n",
        "    else:\n",
        "      print(\"choose a model in ['RNN', 'LSTM', 'GRU']\")\n",
        "      raise # 에러 발생시킴\n",
        "\n",
        "    out = self.dropout(out)\n",
        "    out = self.fc(out[:,-1,:]) # 마지막것만\n",
        "    return out\n"
      ],
      "execution_count": null,
      "outputs": []
    },
    {
      "cell_type": "markdown",
      "metadata": {
        "id": "QN7xbfnEQPTi"
      },
      "source": [
        "### 4. Define Train/Test function\n"
      ]
    },
    {
      "cell_type": "code",
      "metadata": {
        "id": "eRTdu1alQSd8"
      },
      "source": [
        "# Train Function\n",
        "def train(model, train_loader, optimizer, criterion, model_name):\n",
        "  total_step = len(train_loader)\n",
        "  error=[]\n",
        "  for epoch in range(num_epochs):\n",
        "    for i, (image, label) in enumerate(train_loader):\n",
        "      image = image.reshape(-1, sequence_length, input_size).to(device)\n",
        "      label = label.to(device)\n",
        "\n",
        "      # Forward\n",
        "      output = model(image)\n",
        "      loss = criterion(output, label)\n",
        "\n",
        "      # Backward and optimize\n",
        "      batch_loss = 0.0\n",
        "      optimizer.zero_grad()\n",
        "      loss.backward()\n",
        "      optimizer.step()\n",
        "      batch_loss += loss.item()\n",
        "      error.append(batch_loss)\n",
        "\n",
        "      if (i+1) % 600 == 0:\n",
        "        print(\"Epoch [{}/{}], Step[{}/{}], Loss:{:.4f}\".format(epoch+1, num_epochs, i+1, total_step, loss.item()))\n",
        "  torch.save(model.state_dict(),\"{}.pth\".format(model_name)) # 모델 저장\n",
        "  return error"
      ],
      "execution_count": null,
      "outputs": []
    },
    {
      "cell_type": "code",
      "metadata": {
        "id": "7NWixCMuQZzF"
      },
      "source": [
        " # TEST Function\n",
        " def test(model, test_loader):\n",
        "  model.eval()\n",
        "  with torch.no_grad(): #gradient 계산x\n",
        "    correct = 0\n",
        "\n",
        "    for image, label in test_loader:\n",
        "      image = image.reshape(-1, sequence_length, input_size).to(device)\n",
        "      label = label.to(device)\n",
        "      output = model(image)\n",
        "      _, pred = torch.max(output.data, 1) # prediction 값만 사용, 10개 중 가장 높은 값\n",
        "      correct += (pred == label).sum().item()\n",
        "\n",
        "    print('Test Accuracy of RNN model on the {} test images: {}%'.format(len(test_data), 100 * correct / len(test_data)))"
      ],
      "execution_count": null,
      "outputs": []
    },
    {
      "cell_type": "markdown",
      "metadata": {
        "id": "u1tF5niU3Hw6"
      },
      "source": [
        "### 5-1. RNN"
      ]
    },
    {
      "cell_type": "code",
      "metadata": {
        "id": "5rCgmujr3KRF"
      },
      "source": [
        "rnn_model = RNN(input_size, num_layers, num_classes, model='RNN', hidden_size=150).to(device)\n",
        "criterion = nn.CrossEntropyLoss()\n",
        "optimizer = torch.optim.Adam(rnn_model.parameters(), lr=0.0005)"
      ],
      "execution_count": null,
      "outputs": []
    },
    {
      "cell_type": "code",
      "metadata": {
        "id": "srV4poHB3ZCx"
      },
      "source": [
        "trained_error = train(rnn_model, train_loader, optimizer, criterion,  model_name=\"rnn_학번\")"
      ],
      "execution_count": null,
      "outputs": []
    },
    {
      "cell_type": "code",
      "metadata": {
        "colab": {
          "base_uri": "https://localhost:8080/",
          "height": 281
        },
        "id": "mbzMWp8f3kWr",
        "outputId": "e5bb51c4-da44-4818-a386-c74c7d4a233c"
      },
      "source": [
        "plt.plot(trained_error)\n",
        "plt.title('error')\n",
        "plt.show()"
      ],
      "execution_count": null,
      "outputs": [
        {
          "output_type": "display_data",
          "data": {
            "image/png": "[encoded data removed]",
            "text/plain": [
              "<Figure size 432x288 with 1 Axes>"
            ]
          },
          "metadata": {
            "tags": [],
            "needs_background": "light"
          }
        }
      ]
    },
    {
      "cell_type": "code",
      "metadata": {
        "colab": {
          "base_uri": "https://localhost:8080/"
        },
        "id": "zjYRxXMq3qE1",
        "outputId": "5fbc1b13-b8b3-44f0-edf3-8e37c7c13f87"
      },
      "source": [
        "rnn_model.load_state_dict(torch.load('{}_학번.pth'.format(\"rnn\"))) # 모델 불러오기 \n",
        "test(rnn_model, test_loader)"
      ],
      "execution_count": null,
      "outputs": [
        {
          "output_type": "stream",
          "text": [
            "Test Accuracy of RNN model on the 10000 test images: 97.34%\n"
          ],
          "name": "stdout"
        }
      ]
    },
    {
      "cell_type": "markdown",
      "metadata": {
        "id": "Y3xXeXvGzCmg"
      },
      "source": [
        "### 5-2. LSTM"
      ]
    },
    {
      "cell_type": "code",
      "metadata": {
        "id": "kpE93_j5zEwh"
      },
      "source": [
        "lstm_model = RNN(input_size, num_layers, num_classes, model='LSTM', hidden_size=200).to(device)\n",
        "criterion = nn.CrossEntropyLoss()\n",
        "optimizer = torch.optim.Adam(lstm_model.parameters(), lr=0.0005)"
      ],
      "execution_count": null,
      "outputs": []
    },
    {
      "cell_type": "code",
      "metadata": {
        "colab": {
          "base_uri": "https://localhost:8080/"
        },
        "id": "wgYPDQszzNLQ",
        "outputId": "af317b74-3a2d-4d86-efa3-ceb4c58c9264"
      },
      "source": [
        "trained_error = train(lstm_model, train_loader, optimizer, criterion,  model_name=\"lstm_학번\")"
      ],
      "execution_count": null,
      "outputs": [
        {
          "output_type": "stream",
          "text": [
            "Epoch [1/15], Step[600/1200], Loss:1.3504\n",
            "Epoch [1/15], Step[1200/1200], Loss:0.7210\n",
            "Epoch [2/15], Step[600/1200], Loss:0.8764\n",
            "Epoch [2/15], Step[1200/1200], Loss:0.4588\n",
            "Epoch [3/15], Step[600/1200], Loss:0.4465\n",
            "Epoch [3/15], Step[1200/1200], Loss:0.2067\n",
            "Epoch [4/15], Step[600/1200], Loss:0.1599\n",
            "Epoch [4/15], Step[1200/1200], Loss:0.5985\n",
            "Epoch [5/15], Step[600/1200], Loss:0.1302\n",
            "Epoch [5/15], Step[1200/1200], Loss:0.0522\n",
            "Epoch [6/15], Step[600/1200], Loss:0.3100\n",
            "Epoch [6/15], Step[1200/1200], Loss:0.0459\n",
            "Epoch [7/15], Step[600/1200], Loss:0.0765\n",
            "Epoch [7/15], Step[1200/1200], Loss:0.0960\n",
            "Epoch [8/15], Step[600/1200], Loss:0.1145\n",
            "Epoch [8/15], Step[1200/1200], Loss:0.2322\n",
            "Epoch [9/15], Step[600/1200], Loss:0.0503\n",
            "Epoch [9/15], Step[1200/1200], Loss:0.0238\n",
            "Epoch [10/15], Step[600/1200], Loss:0.1534\n",
            "Epoch [10/15], Step[1200/1200], Loss:0.0307\n",
            "Epoch [11/15], Step[600/1200], Loss:0.0089\n",
            "Epoch [11/15], Step[1200/1200], Loss:0.0377\n",
            "Epoch [12/15], Step[600/1200], Loss:0.1328\n",
            "Epoch [12/15], Step[1200/1200], Loss:0.0073\n",
            "Epoch [13/15], Step[600/1200], Loss:0.0849\n",
            "Epoch [13/15], Step[1200/1200], Loss:0.0602\n",
            "Epoch [14/15], Step[600/1200], Loss:0.1778\n",
            "Epoch [14/15], Step[1200/1200], Loss:0.0689\n",
            "Epoch [15/15], Step[600/1200], Loss:0.2539\n",
            "Epoch [15/15], Step[1200/1200], Loss:0.0152\n"
          ],
          "name": "stdout"
        }
      ]
    },
    {
      "cell_type": "code",
      "metadata": {
        "colab": {
          "base_uri": "https://localhost:8080/",
          "height": 281
        },
        "id": "uE6FrNWIzRPr",
        "outputId": "bfa6ef13-1ee1-4d39-b9ab-9e2206886936"
      },
      "source": [
        "plt.plot(trained_error)\n",
        "plt.title('error')\n",
        "plt.show()"
      ],
      "execution_count": null,
      "outputs": [
        {
          "output_type": "display_data",
          "data": {
            "image/png": "[encoded data removed]",
            "text/plain": [
              "<Figure size 432x288 with 1 Axes>"
            ]
          },
          "metadata": {
            "tags": [],
            "needs_background": "light"
          }
        }
      ]
    },
    {
      "cell_type": "code",
      "metadata": {
        "colab": {
          "base_uri": "https://localhost:8080/"
        },
        "id": "B_ypobYazS5G",
        "outputId": "043f6108-c270-4e97-e0da-40d3d0132167"
      },
      "source": [
        "lstm_model.load_state_dict(torch.load('{}_학번.pth'.format(\"lstm\")))\n",
        "test(lstm_model, test_loader)"
      ],
      "execution_count": null,
      "outputs": [
        {
          "output_type": "stream",
          "text": [
            "Test Accuracy of RNN model on the 10000 test images: 98.36%\n"
          ],
          "name": "stdout"
        }
      ]
    },
    {
      "cell_type": "markdown",
      "metadata": {
        "id": "L8AcA7KEvh7M"
      },
      "source": [
        "### 5-3. GRU"
      ]
    },
    {
      "cell_type": "code",
      "metadata": {
        "id": "Z0tryskQD3CA"
      },
      "source": [
        "gru_model = RNN(input_size, num_layers, num_classes, model='GRU', hidden_size=200).to(device)\n",
        "criterion = nn.CrossEntropyLoss()\n",
        "optimizer = torch.optim.Adam(gru_model.parameters(), lr=0.001)"
      ],
      "execution_count": null,
      "outputs": []
    },
    {
      "cell_type": "code",
      "metadata": {
        "colab": {
          "base_uri": "https://localhost:8080/"
        },
        "id": "5cZUSSwxrDWN",
        "outputId": "c59d35db-80fa-422d-bc2b-2f92c29ac5eb"
      },
      "source": [
        "trained_error = train(gru_model, train_loader, optimizer, criterion,  model_name=\"gru_학번\")"
      ],
      "execution_count": null,
      "outputs": [
        {
          "output_type": "stream",
          "text": [
            "Epoch [1/15], Step[600/1200], Loss:0.2542\n",
            "Epoch [1/15], Step[1200/1200], Loss:0.0353\n",
            "Epoch [2/15], Step[600/1200], Loss:0.2478\n",
            "Epoch [2/15], Step[1200/1200], Loss:0.0104\n",
            "Epoch [3/15], Step[600/1200], Loss:0.1558\n",
            "Epoch [3/15], Step[1200/1200], Loss:0.1698\n",
            "Epoch [4/15], Step[600/1200], Loss:0.1061\n",
            "Epoch [4/15], Step[1200/1200], Loss:0.0214\n",
            "Epoch [5/15], Step[600/1200], Loss:0.0504\n",
            "Epoch [5/15], Step[1200/1200], Loss:0.0167\n",
            "Epoch [6/15], Step[600/1200], Loss:0.0508\n",
            "Epoch [6/15], Step[1200/1200], Loss:0.0062\n",
            "Epoch [7/15], Step[600/1200], Loss:0.0862\n",
            "Epoch [7/15], Step[1200/1200], Loss:0.0061\n",
            "Epoch [8/15], Step[600/1200], Loss:0.1073\n",
            "Epoch [8/15], Step[1200/1200], Loss:0.1322\n",
            "Epoch [9/15], Step[600/1200], Loss:0.0126\n",
            "Epoch [9/15], Step[1200/1200], Loss:0.0081\n",
            "Epoch [10/15], Step[600/1200], Loss:0.0054\n",
            "Epoch [10/15], Step[1200/1200], Loss:0.0057\n",
            "Epoch [11/15], Step[600/1200], Loss:0.0670\n",
            "Epoch [11/15], Step[1200/1200], Loss:0.1239\n",
            "Epoch [12/15], Step[600/1200], Loss:0.0679\n",
            "Epoch [12/15], Step[1200/1200], Loss:0.0140\n",
            "Epoch [13/15], Step[600/1200], Loss:0.0042\n",
            "Epoch [13/15], Step[1200/1200], Loss:0.0259\n",
            "Epoch [14/15], Step[600/1200], Loss:0.0083\n",
            "Epoch [14/15], Step[1200/1200], Loss:0.2101\n",
            "Epoch [15/15], Step[600/1200], Loss:0.0092\n",
            "Epoch [15/15], Step[1200/1200], Loss:0.1626\n"
          ],
          "name": "stdout"
        }
      ]
    },
    {
      "cell_type": "code",
      "metadata": {
        "colab": {
          "base_uri": "https://localhost:8080/",
          "height": 281
        },
        "id": "Yrs0PzHIy66O",
        "outputId": "72559fca-d0aa-4c43-c863-bd7cae079aa0"
      },
      "source": [
        "plt.plot(trained_error)\n",
        "plt.title('error')\n",
        "plt.show()"
      ],
      "execution_count": null,
      "outputs": [
        {
          "output_type": "display_data",
          "data": {
            "image/png": "[encoded data removed]",
            "text/plain": [
              "<Figure size 432x288 with 1 Axes>"
            ]
          },
          "metadata": {
            "tags": [],
            "needs_background": "light"
          }
        }
      ]
    },
    {
      "cell_type": "code",
      "metadata": {
        "id": "HoGJfAHXWSXJ",
        "colab": {
          "base_uri": "https://localhost:8080/"
        },
        "outputId": "8430eeae-19af-4c07-eabc-f2cf36f0e98e"
      },
      "source": [
        "gru_model.load_state_dict(torch.load('{}_학번.pth'.format(\"gru\")))\n",
        "test(gru_model, test_loader)"
      ],
      "execution_count": null,
      "outputs": [
        {
          "output_type": "stream",
          "text": [
            "Test Accuracy of RNN model on the 10000 test images: 98.4%\n"
          ],
          "name": "stdout"
        }
      ]
    }
  ]
}
