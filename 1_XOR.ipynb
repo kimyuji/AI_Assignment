{
  "nbformat": 4,
  "nbformat_minor": 0,
  "metadata": {
    "kernelspec": {
      "display_name": "Python 3",
      "language": "python",
      "name": "python3"
    },
    "language_info": {
      "codemirror_mode": {
        "name": "ipython",
        "version": 3
      },
      "file_extension": ".py",
      "mimetype": "text/x-python",
      "name": "python",
      "nbconvert_exporter": "python",
      "pygments_lexer": "ipython3",
      "version": "3.7.1"
    },
    "colab": {
      "name": "1_XOR.ipynb",
      "provenance": [],
      "include_colab_link": true
    }
  },
  "cells": [
    {
      "cell_type": "markdown",
      "metadata": {
        "id": "view-in-github",
        "colab_type": "text"
      },
      "source": [
        "<a href=\"https://colab.research.google.com/github/kimyuji/AI_Assignment/blob/main/1_XOR.ipynb\" target=\"_parent\"><img src=\"https://colab.research.google.com/assets/colab-badge.svg\" alt=\"Open In Colab\"/></a>"
      ]
    },
    {
      "cell_type": "markdown",
      "metadata": {
        "id": "NiUtBYMycmcU"
      },
      "source": [
        "# 1-Layer Model"
      ]
    },
    {
      "cell_type": "code",
      "metadata": {
        "id": "1dYz8wV0cmcV"
      },
      "source": [
        "# Weight Setting\n",
        "random.seed(3013)\n",
        "W1 = np.random.randn(2,1) \n",
        "b1 = np.random.randn(1,1)"
      ],
      "execution_count": null,
      "outputs": []
    },
    {
      "cell_type": "code",
      "metadata": {
        "id": "TVvV1DhAcmcX"
      },
      "source": [
        "# Activation Function - sigmoid\n",
        "def sigmoid(x):          \n",
        "    return 1 / (np.exp(-x)+1)"
      ],
      "execution_count": null,
      "outputs": []
    },
    {
      "cell_type": "code",
      "metadata": {
        "id": "qDRaknbIcmcZ",
        "outputId": "cf6b1ac7-ef84-4955-c04b-3b1578f88a16"
      },
      "source": [
        "# Training Step\n",
        "errors = []\n",
        "for epoch in range(epochs):\n",
        "\n",
        "    for batch in range(4): \n",
        "        idx = random.randint(0,3) \n",
        "\n",
        "        # 입력 데이터 xin과 해당하는 정답 ans 불러오기\n",
        "        xin = train_inp[idx].reshape(1,2) \n",
        "        ans = train_out[idx] \n",
        "        \n",
        "        \n",
        "        # Feedforward 1-layer\n",
        "        x1 = sigmoid(np.dot(xin, W1) + b1) \n",
        "\n",
        "        # loss\n",
        "        loss = -(ans*np.log(x1)+(1-ans)*np.log(1-x1))\n",
        "\n",
        "        \n",
        "        # Weight 초기값을 설정\n",
        "        delta_W1 = np.zeros((2,3))\n",
        "        delta_b1 = np.zeros((1,3))\n",
        "        \n",
        "        \n",
        "        # Back propagation을 통한 Weight의 Gradient update step        \n",
        "        delta_W1 = (x1-ans)*xin.T\n",
        "        delta_b1 = x1-ans\n",
        "\n",
        "\n",
        "    \n",
        "        # 각 weight의 update 반영\n",
        "        W1 = W1 -learning_rate * delta_W1\n",
        "        b1 = b1 - learning_rate * delta_b1\n",
        "        \n",
        "        \n",
        "        ## 500번째 epoch마다 loss를 프린트 합니다.\n",
        "    if epoch%500 == 0:\n",
        "        print(\"epoch[{}/{}] loss: {:.4f}\".format(epoch,epochs,float(loss)))\n",
        "        \n",
        "\n",
        "    errors.append(loss)"
      ],
      "execution_count": null,
      "outputs": [
        {
          "output_type": "stream",
          "text": [
            "epoch[0/10000] loss: 2.1634\n",
            "epoch[500/10000] loss: 0.4358\n",
            "epoch[1000/10000] loss: 0.5948\n",
            "epoch[1500/10000] loss: 0.7281\n",
            "epoch[2000/10000] loss: 0.7602\n",
            "epoch[2500/10000] loss: 0.6128\n",
            "epoch[3000/10000] loss: 0.8789\n",
            "epoch[3500/10000] loss: 0.5613\n",
            "epoch[4000/10000] loss: 0.5471\n",
            "epoch[4500/10000] loss: 0.6645\n",
            "epoch[5000/10000] loss: 0.8520\n",
            "epoch[5500/10000] loss: 0.5560\n",
            "epoch[6000/10000] loss: 1.0984\n",
            "epoch[6500/10000] loss: 0.4147\n",
            "epoch[7000/10000] loss: 0.6835\n",
            "epoch[7500/10000] loss: 0.6530\n",
            "epoch[8000/10000] loss: 0.6314\n",
            "epoch[8500/10000] loss: 0.5740\n",
            "epoch[9000/10000] loss: 0.7874\n",
            "epoch[9500/10000] loss: 0.6039\n"
          ],
          "name": "stdout"
        }
      ]
    },
    {
      "cell_type": "code",
      "metadata": {
        "id": "JNFF3VSTcmcb",
        "outputId": "89c5b417-cef9-4fc0-ed7f-fdbcaf74d04b"
      },
      "source": [
        "# loss graph\n",
        "loss =  np.array(errors)\n",
        "plt.figure(figsize=(12, 5))\n",
        "plt.plot(loss.reshape(epochs))\n",
        "plt.xlabel(\"epoch\")\n",
        "plt.ylabel(\"loss\")"
      ],
      "execution_count": null,
      "outputs": [
        {
          "output_type": "execute_result",
          "data": {
            "text/plain": [
              "Text(0, 0.5, 'loss')"
            ]
          },
          "metadata": {
            "tags": []
          },
          "execution_count": 7
        },
        {
          "output_type": "display_data",
          "data": {
            "image/png": "[encoded data removed]",
            "text/plain": [
              "<Figure size 864x360 with 1 Axes>"
            ]
          },
          "metadata": {
            "tags": [],
            "needs_background": "light"
          }
        }
      ]
    },
    {
      "cell_type": "code",
      "metadata": {
        "id": "mTDHb7N9cmcc",
        "outputId": "abbedf72-b530-40c2-91f4-4b3c0e188ee1"
      },
      "source": [
        "# Testing Step\n",
        "for idx in range(4):\n",
        "    xin = train_inp[idx]\n",
        "    ans = train_out[idx]\n",
        "    \n",
        "    x1 = sigmoid(np.matmul(xin,W1)+b1)\n",
        "\n",
        "    pred = x1\n",
        "    \n",
        "    print(\"input: \", xin, \", answer: \", ans, \", pred: {:.4f}\".format(float(pred)))"
      ],
      "execution_count": null,
      "outputs": [
        {
          "output_type": "stream",
          "text": [
            "input:  [1 1] , answer:  0 , pred: 0.4724\n",
            "input:  [1 0] , answer:  1 , pred: 0.4838\n",
            "input:  [0 1] , answer:  1 , pred: 0.4378\n",
            "input:  [0 0] , answer:  0 , pred: 0.4491\n"
          ],
          "name": "stdout"
        }
      ]
    },
    {
      "cell_type": "code",
      "metadata": {
        "id": "xrFR5Xqycmcd"
      },
      "source": [
        "# Weight Saving\n",
        "np.savetxt(\"학번_layer1_weight\",(W1, b1),fmt=\"%s\")"
      ],
      "execution_count": null,
      "outputs": []
    },
    {
      "cell_type": "markdown",
      "metadata": {
        "id": "FI5jk2FVcmce"
      },
      "source": [
        "# 2-Layer Model"
      ]
    },
    {
      "cell_type": "code",
      "metadata": {
        "id": "bFLUbxulcmce"
      },
      "source": [
        "# Weight Setting\n",
        "random.seed(3011)\n",
        "W1 = np.random.randn(2,3) \n",
        "W2 = np.random.randn(3,1)\n",
        "b1 = np.random.randn(1,3)\n",
        "b2 = np.random.randn(1,1)"
      ],
      "execution_count": null,
      "outputs": []
    },
    {
      "cell_type": "code",
      "metadata": {
        "id": "8UmlFL8Vcmce"
      },
      "source": [
        "# Activation Function\n",
        "def sigmoid(x):          \n",
        "    return 1 / (np.exp(-x)+1)"
      ],
      "execution_count": null,
      "outputs": []
    },
    {
      "cell_type": "code",
      "metadata": {
        "id": "34qBJ_BNcmcf",
        "outputId": "375f2d8b-dad3-42f4-da1c-3b17c6564cd6"
      },
      "source": [
        "# Training Step\n",
        "errors = []\n",
        "for epoch in range(epochs): \n",
        "    for batch in range(4): \n",
        "        idx = random.randint(0,3) \n",
        "\n",
        "        # 입력 데이터 xin과 해당하는 정답 ans 불러오기\n",
        "        xin = train_inp[idx].reshape(1,2) \n",
        "        ans = train_out[idx] \n",
        "        \n",
        "        \n",
        "        # Feedforward layer-1\n",
        "        x1 = sigmoid(np.dot(xin, W1) + b1) \n",
        "        # Feedforward layer-2\n",
        "        x2 = sigmoid(np.dot(x1, W2) + b2) \n",
        "\n",
        "        # loss\n",
        "        loss = -(ans*np.log(x2)+(1-ans)*np.log(1-x2))\n",
        "\n",
        "        \n",
        "        # Weight 초기값을 설정\n",
        "        delta_W1 = np.zeros((2,3))\n",
        "        delta_W2 = np.zeros((3,1))\n",
        "        delta_b1 = np.zeros((1,3))\n",
        "        delta_b2 = np.zeros((1,1))\n",
        "        \n",
        "        \n",
        "        # Back propagation을 통한 Weight의 Gradient update step        \n",
        "        # Hidden-to-output: \n",
        "        delta_W2 = (x2-ans)*(x1.T)\n",
        "        delta_b2 = x2-ans\n",
        "        # Input-to-hidden:\n",
        "        delta_W1 =  np.dot((x2-ans)*W2*((x1*(1-x1)).T), xin.reshape(1,2)).T\n",
        "        delta_b1 = ((x2-ans)*W2*(x1*(1-x1)).T).T\n",
        "\n",
        "        # 각 weight의 update 반영\n",
        "        W1 = W1 -learning_rate * delta_W1\n",
        "        W2 = W2 - learning_rate * delta_W2\n",
        "        \n",
        "        b1 = b1 - learning_rate * delta_b1\n",
        "        b2 = b2 - learning_rate * delta_b2\n",
        "        \n",
        "        \n",
        "        ## 500번째 epoch마다 loss를 프린트 합니다.\n",
        "    if epoch%500 == 0:\n",
        "        print(\"epoch[{}/{}] loss: {:.4f}\".format(epoch,epochs,float(loss)))\n",
        "        \n",
        "\n",
        "    errors.append(loss)\n"
      ],
      "execution_count": null,
      "outputs": [
        {
          "output_type": "stream",
          "text": [
            "epoch[0/10000] loss: 0.7983\n",
            "epoch[500/10000] loss: 0.7870\n",
            "epoch[1000/10000] loss: 0.5171\n",
            "epoch[1500/10000] loss: 0.2134\n",
            "epoch[2000/10000] loss: 0.0567\n",
            "epoch[2500/10000] loss: 0.0401\n",
            "epoch[3000/10000] loss: 0.0361\n",
            "epoch[3500/10000] loss: 0.0190\n",
            "epoch[4000/10000] loss: 0.0191\n",
            "epoch[4500/10000] loss: 0.0159\n",
            "epoch[5000/10000] loss: 0.0158\n",
            "epoch[5500/10000] loss: 0.0105\n",
            "epoch[6000/10000] loss: 0.0089\n",
            "epoch[6500/10000] loss: 0.0108\n",
            "epoch[7000/10000] loss: 0.0082\n",
            "epoch[7500/10000] loss: 0.0069\n",
            "epoch[8000/10000] loss: 0.0070\n",
            "epoch[8500/10000] loss: 0.0070\n",
            "epoch[9000/10000] loss: 0.0065\n",
            "epoch[9500/10000] loss: 0.0068\n"
          ],
          "name": "stdout"
        }
      ]
    },
    {
      "cell_type": "code",
      "metadata": {
        "scrolled": true,
        "id": "_ETZ3PgVcmcg",
        "outputId": "8925bb76-4129-4de0-a55b-9a309dc493b2"
      },
      "source": [
        "# loss graph\n",
        "plt.figure(figsize=(12, 5))\n",
        "loss =  np.array(errors)\n",
        "plt.plot(loss.reshape(epochs))\n",
        "plt.xlabel(\"epoch\")\n",
        "plt.ylabel(\"loss\")"
      ],
      "execution_count": null,
      "outputs": [
        {
          "output_type": "execute_result",
          "data": {
            "text/plain": [
              "Text(0, 0.5, 'loss')"
            ]
          },
          "metadata": {
            "tags": []
          },
          "execution_count": 18
        },
        {
          "output_type": "display_data",
          "data": {
            "image/png": "[encoded data removed]",
            "text/plain": [
              "<Figure size 864x360 with 1 Axes>"
            ]
          },
          "metadata": {
            "tags": [],
            "needs_background": "light"
          }
        }
      ]
    },
    {
      "cell_type": "code",
      "metadata": {
        "id": "wWjkomEzcmcg",
        "outputId": "95d45c15-0b5c-4a1b-ecdc-527d74e4906c"
      },
      "source": [
        "# Testing Step\n",
        "for idx in range(4):\n",
        "    xin = train_inp[idx]\n",
        "    ans = train_out[idx]\n",
        "    \n",
        "    x1 = sigmoid(np.matmul(xin,W1)+b1)\n",
        "    x2 = sigmoid(np.matmul(x1,W2)+b2)\n",
        "\n",
        "    pred = x2\n",
        "    \n",
        "    print(\"input: \", xin, \", answer: \", ans, \", pred: {:.4f}\".format(float(pred)))\n",
        "    "
      ],
      "execution_count": null,
      "outputs": [
        {
          "output_type": "stream",
          "text": [
            "input:  [1 1] , answer:  0 , pred: 0.0058\n",
            "input:  [1 0] , answer:  1 , pred: 0.9948\n",
            "input:  [0 1] , answer:  1 , pred: 0.9951\n",
            "input:  [0 0] , answer:  0 , pred: 0.0063\n"
          ],
          "name": "stdout"
        }
      ]
    },
    {
      "cell_type": "code",
      "metadata": {
        "id": "yWXdwc0icmch"
      },
      "source": [
        "# Weight Saving\n",
        "np.savetxt(\"학번_layer2_weight\",(W1, W2, b1, b2),fmt=\"%s\")"
      ],
      "execution_count": null,
      "outputs": []
    },
    {
      "cell_type": "code",
      "metadata": {
        "id": "TJM4NutQcmci"
      },
      "source": [
        ""
      ],
      "execution_count": null,
      "outputs": []
    }
  ]
}